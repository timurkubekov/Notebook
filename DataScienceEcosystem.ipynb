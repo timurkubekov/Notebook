{
 "cells": [
  {
   "cell_type": "code",
   "execution_count": null,
   "id": "8cff2225-0122-46ed-86b8-019e60b89f26",
   "metadata": {},
   "outputs": [],
   "source": [
    "Data Science Tools and Ecosystem"
   ]
  },
  {
   "cell_type": "code",
   "execution_count": null,
   "id": "4dc9ca9e-ab23-454b-91e5-0f92ca74d8f6",
   "metadata": {},
   "outputs": [],
   "source": [
    "In this notebook, Data Science Tools and Ecosystem are summarized."
   ]
  },
  {
   "cell_type": "code",
   "execution_count": null,
   "id": "bc55351e-df87-4031-8f1b-23a526e29803",
   "metadata": {},
   "outputs": [],
   "source": [
    "absSome of the popular languages that Data Scientists use are: Python, SQL, R"
   ]
  },
  {
   "cell_type": "code",
   "execution_count": null,
   "id": "80794e33-4cfa-4c41-9fea-d7fcf96b7b93",
   "metadata": {},
   "outputs": [],
   "source": [
    "Objectives:unordered list"
   ]
  },
  {
   "cell_type": "code",
   "execution_count": null,
   "id": "c36f943d-6865-4e90-8a45-d02f434e4f5b",
   "metadata": {},
   "outputs": [],
   "source": [
    "Some of the commonly used libraries used by Data Scientists include: Deep learning models, visualization models, scientific computing models, machine learning models"
   ]
  },
  {
   "cell_type": "code",
   "execution_count": null,
   "id": "0ebe7e63-4cf3-4d94-8899-b0136f3cb894",
   "metadata": {},
   "outputs": [],
   "source": [
    "Data Science Tools"
   ]
  },
  {
   "cell_type": "code",
   "execution_count": null,
   "id": "9d4d4668-1d76-4ff7-a7ef-a0715500d990",
   "metadata": {},
   "outputs": [],
   "source": [
    "Below are a few examples of evaluating arithmetic expressions in Python"
   ]
  },
  {
   "cell_type": "code",
   "execution_count": 1,
   "id": "14e5d870-e7ab-4f8e-813f-afd2a01373c9",
   "metadata": {
    "tags": []
   },
   "outputs": [
    {
     "data": {
      "text/plain": [
       "17"
      ]
     },
     "execution_count": 1,
     "metadata": {},
     "output_type": "execute_result"
    }
   ],
   "source": [
    "(3*4)+5"
   ]
  },
  {
   "cell_type": "code",
   "execution_count": 2,
   "id": "b9e3b85e-ed14-4397-882d-68f4c951e5fc",
   "metadata": {
    "tags": []
   },
   "outputs": [
    {
     "ename": "SyntaxError",
     "evalue": "invalid syntax (601910045.py, line 1)",
     "output_type": "error",
     "traceback": [
      "\u001b[0;36m  File \u001b[0;32m\"/tmp/ipykernel_351/601910045.py\"\u001b[0;36m, line \u001b[0;32m1\u001b[0m\n\u001b[0;31m    200 minutes to hours\u001b[0m\n\u001b[0m              ^\u001b[0m\n\u001b[0;31mSyntaxError\u001b[0m\u001b[0;31m:\u001b[0m invalid syntax\n"
     ]
    }
   ],
   "source": [
    "200 minutes "
   ]
  },
  {
   "cell_type": "code",
   "execution_count": 3,
   "id": "6438d55f-01e4-4ff5-891f-1278953e7f28",
   "metadata": {
    "tags": []
   },
   "outputs": [
    {
     "ename": "ModuleNotFoundError",
     "evalue": "No module named 'datatime'",
     "output_type": "error",
     "traceback": [
      "\u001b[0;31m---------------------------------------------------------------------------\u001b[0m",
      "\u001b[0;31mModuleNotFoundError\u001b[0m                       Traceback (most recent call last)",
      "\u001b[0;32m/tmp/ipykernel_351/3564914933.py\u001b[0m in \u001b[0;36m<module>\u001b[0;34m\u001b[0m\n\u001b[0;32m----> 1\u001b[0;31m \u001b[0;32mimport\u001b[0m \u001b[0mdatatime\u001b[0m\u001b[0;34m\u001b[0m\u001b[0;34m\u001b[0m\u001b[0m\n\u001b[0m\u001b[1;32m      2\u001b[0m \u001b[0;34m\u001b[0m\u001b[0m\n\u001b[1;32m      3\u001b[0m \u001b[0mmin\u001b[0m \u001b[0;34m=\u001b[0m \u001b[0;36m200\u001b[0m\u001b[0;34m\u001b[0m\u001b[0;34m\u001b[0m\u001b[0m\n\u001b[1;32m      4\u001b[0m \u001b[0mhours\u001b[0m\u001b[0;34m,\u001b[0m \u001b[0;34m=\u001b[0m \u001b[0mdivmod\u001b[0m\u001b[0;34m(\u001b[0m\u001b[0mmin\u001b[0m\u001b[0;34m,\u001b[0m \u001b[0;36m60\u001b[0m\u001b[0;34m)\u001b[0m\u001b[0;34m\u001b[0m\u001b[0;34m\u001b[0m\u001b[0m\n\u001b[1;32m      5\u001b[0m \u001b[0mprint\u001b[0m\u001b[0;34m(\u001b[0m\u001b[0mhours\u001b[0m\u001b[0;34m)\u001b[0m \u001b[0;31m# Output: 3\u001b[0m\u001b[0;34m\u001b[0m\u001b[0;34m\u001b[0m\u001b[0m\n",
      "\u001b[0;31mModuleNotFoundError\u001b[0m: No module named 'datatime'"
     ]
    }
   ],
   "source": [
    "import datatime\n",
    "\n",
    "min = 200\n",
    "hours, = divmod(min, 60)\n",
    "print(hours) # Output: 3"
   ]
  },
  {
   "cell_type": "code",
   "execution_count": 5,
   "id": "66f2ff12-9a08-4c3c-b621-542b6b86e9a5",
   "metadata": {
    "tags": []
   },
   "outputs": [
    {
     "name": "stdout",
     "output_type": "stream",
     "text": [
      "3\n"
     ]
    }
   ],
   "source": [
    "min = 200\n",
    "hours = min // 60\n",
    "print(hours) # Output: 3"
   ]
  },
  {
   "cell_type": "code",
   "execution_count": null,
   "id": "263f01f0-5676-4489-b434-975db2666a4f",
   "metadata": {},
   "outputs": [],
   "source": [
    "Autor Timur"
   ]
  }
 ],
 "metadata": {
  "kernelspec": {
   "display_name": "Python",
   "language": "python",
   "name": "conda-env-python-py"
  },
  "language_info": {
   "codemirror_mode": {
    "name": "ipython",
    "version": 3
   },
   "file_extension": ".py",
   "mimetype": "text/x-python",
   "name": "python",
   "nbconvert_exporter": "python",
   "pygments_lexer": "ipython3",
   "version": "3.7.12"
  }
 },
 "nbformat": 4,
 "nbformat_minor": 5
}
