{
 "cells": [
  {
   "cell_type": "markdown",
   "id": "2ec50c07-a1bd-4f20-8e71-9100e607a5fe",
   "metadata": {},
   "source": [
    "#Data Science Tools and Ecosystem"
   ]
  },
  {
   "cell_type": "markdown",
   "id": "21d946d8-1da8-47c6-865f-5f29adc36fc4",
   "metadata": {},
   "source": [
    "In this notebook, Data Science Tools and Ecosystem are summarized."
   ]
  },
  {
   "cell_type": "markdown",
   "id": "9c3098cc-14b2-477f-b66e-54e9fad193a1",
   "metadata": {},
   "source": [
    "Objectives: List popular languages for Data Science"
   ]
  },
  {
   "cell_type": "markdown",
   "id": "77746ad6-1e94-46a7-b85f-8830711314c2",
   "metadata": {},
   "source": [
    "Some of the popular languages that Data Scientists use are:\n",
    "\n",
    "Python\n",
    "R \n",
    "SQL \n",
    "Scala\n",
    "Java\n",
    "C++\n",
    "Julia"
   ]
  },
  {
   "cell_type": "markdown",
   "id": "305e907b-0c9e-43de-b1ac-05d5630d9f45",
   "metadata": {},
   "source": [
    "Some of the commonly used libraries used by Data Scientists include:\n",
    "\n",
    "Pandas \n",
    "NumPy\n",
    "Matplotlib\n",
    "Seaborn"
   ]
  },
  {
   "cell_type": "markdown",
   "id": "db68991e-38ce-41a4-90de-a45214fed041",
   "metadata": {},
   "source": [
    "Data Science Tools: \n",
    "\n",
    "MySQL\n",
    "PostgreSQL\n",
    "IBM Db2\n",
    "MongoDB\n",
    "Apache Cassandra\n",
    "Apache Hadoop\n",
    "Apache Spark\n",
    "Cognos Analytics\n",
    "PowerBI "
   ]
  },
  {
   "cell_type": "markdown",
   "id": "6888974e-3ce1-4f0c-921a-6ac1c7bf36ac",
   "metadata": {},
   "source": [
    "### Below are a few examples of evaluating arithmetic expressions in Python"
   ]
  },
  {
   "cell_type": "markdown",
   "id": "0dae4414-a2fd-43f3-9bd2-6cb852ad54cb",
   "metadata": {},
   "source": [
    "This a simple arithmetic expression to mutiply then add integers"
   ]
  },
  {
   "cell_type": "code",
   "execution_count": 1,
   "id": "6637fe29-95d5-44c1-b35c-c76874ead7c4",
   "metadata": {
    "tags": []
   },
   "outputs": [
    {
     "data": {
      "text/plain": [
       "17"
      ]
     },
     "execution_count": 1,
     "metadata": {},
     "output_type": "execute_result"
    }
   ],
   "source": [
    "(3*4)+5"
   ]
  },
  {
   "cell_type": "markdown",
   "id": "43d5fba2-aa60-4e14-9d7f-b99d337a59ad",
   "metadata": {},
   "source": [
    "This will convert 200 minutes to hours by diving by 60"
   ]
  },
  {
   "cell_type": "code",
   "execution_count": 2,
   "id": "31852ed0-6afb-45ac-b020-7feb2cfbac0e",
   "metadata": {
    "tags": []
   },
   "outputs": [
    {
     "name": "stdout",
     "output_type": "stream",
     "text": [
      "3\n"
     ]
    }
   ],
   "source": [
    "min = 200\n",
    "hours = min // 60\n",
    "print(hours) # Output: 3"
   ]
  },
  {
   "cell_type": "code",
   "execution_count": null,
   "id": "5939f876-f4b5-43b5-9b0f-44ec17407afe",
   "metadata": {},
   "outputs": [],
   "source": [
    "## Autor\n",
    "Timur Kubekov"
   ]
  }
 ],
 "metadata": {
  "kernelspec": {
   "display_name": "Python",
   "language": "python",
   "name": "conda-env-python-py"
  },
  "language_info": {
   "codemirror_mode": {
    "name": "ipython",
    "version": 3
   },
   "file_extension": ".py",
   "mimetype": "text/x-python",
   "name": "python",
   "nbconvert_exporter": "python",
   "pygments_lexer": "ipython3",
   "version": "3.7.12"
  }
 },
 "nbformat": 4,
 "nbformat_minor": 5
}
